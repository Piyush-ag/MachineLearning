{
 "cells": [
  {
   "cell_type": "code",
   "execution_count": 6,
   "metadata": {},
   "outputs": [
    {
     "name": "stdout",
     "output_type": "stream",
     "text": [
      "Welcome to Machine Learning\n"
     ]
    }
   ],
   "source": [
    "print(\"Welcome to Machine Learning\")"
   ]
  },
  {
   "cell_type": "code",
   "execution_count": 7,
   "metadata": {},
   "outputs": [
    {
     "name": "stdout",
     "output_type": "stream",
     "text": [
      "330775\n",
      "3.1415\n",
      "myFirstString: 330775\n",
      "mySecondString:  machine learning\n",
      "addition:  330778.1415\n",
      "subtraction:  330771.8585\n",
      "multiplication:  1039129.6625000001\n",
      "division:  105292.0579341079\n",
      "mod: 0.1819999999809223\n",
      "concatenate1:  330775machine learning\n",
      "myFirstString:  330775machine learning\n",
      "concatenate2:  330775machine learning\n"
     ]
    }
   ],
   "source": [
    "myint = 330775\n",
    "print(myint)\n",
    "myfloat = 3.1415\n",
    "print(myfloat)\n",
    "myFirstString = '330775'\n",
    "print('myFirstString:', myFirstString)\n",
    "mySecondString = \"machine learning\"\n",
    "print('mySecondString: ', mySecondString)\n",
    "addition = myint + myfloat\n",
    "print('addition: ', addition)\n",
    "subtraction = myint - myfloat\n",
    "print('subtraction: ', subtraction)\n",
    "multiplication = myint * myfloat\n",
    "print('multiplication: ', multiplication)\n",
    "division = myint / myfloat\n",
    "print('division: ', division)\n",
    "mod = myint % myfloat\n",
    "print('mod:', mod)\n",
    "\t\n",
    "concatenate1 = myFirstString + mySecondString\n",
    "print('concatenate1: ', concatenate1)\n",
    "myFirstString += mySecondString\n",
    "print('myFirstString: ', myFirstString)\n",
    "concatenate2 = str(myint) + mySecondString\n",
    "print('concatenate2: ',concatenate2)\n"
   ]
  },
  {
   "cell_type": "code",
   "execution_count": 8,
   "metadata": {},
   "outputs": [
    {
     "name": "stdout",
     "output_type": "stream",
     "text": [
      "330\n",
      "775\n",
      "['machine', 'learning']\n"
     ]
    }
   ],
   "source": [
    "intList = [330, 775]\n",
    "stringList = []\n",
    "stringList.append(\"machine\")\n",
    "stringList.append(\"learning\")\n",
    "\n",
    "print(intList[0])\n",
    "print(intList[1])\n",
    "print(stringList)\n"
   ]
  },
  {
   "cell_type": "code",
   "execution_count": 9,
   "metadata": {},
   "outputs": [
    {
     "name": "stdout",
     "output_type": "stream",
     "text": [
      "True\n",
      "False\n"
     ]
    }
   ],
   "source": [
    "name = \"John\"\n",
    "age = 23\n",
    "print(name == \"John\")\n",
    "print(age > 25)\n"
   ]
  },
  {
   "cell_type": "code",
   "execution_count": 10,
   "metadata": {},
   "outputs": [
    {
     "name": "stdout",
     "output_type": "stream",
     "text": [
      "0\n",
      "1\n",
      "2\n",
      "3\n",
      "4\n",
      "1\n",
      "2\n",
      "3\n",
      "4\n",
      "machine\n",
      "learning\n"
     ]
    }
   ],
   "source": [
    "for x in range(5):\n",
    "    print(x)\n",
    "\n",
    "for x in range(1, 5):\n",
    "    print(x)\n",
    "\n",
    "for x in stringList:\n",
    "    print(x)\n"
   ]
  },
  {
   "cell_type": "code",
   "execution_count": 11,
   "metadata": {},
   "outputs": [
    {
     "name": "stdout",
     "output_type": "stream",
     "text": [
      "0\n",
      "one\n",
      "1\n",
      "two\n",
      "2\n",
      "three\n",
      "0\n",
      "one\n",
      "1\n",
      "two\n",
      "2\n",
      "three\n"
     ]
    }
   ],
   "source": [
    "seq = ['one', 'two', 'three']\n",
    "for i in range(len(seq)):\n",
    "    print(i)\n",
    "    print(seq[i])\n",
    "\n",
    "seq = ['one', 'two', 'three']\n",
    "for i, element in enumerate(seq):\n",
    "    print(i)\n",
    "    print(element)\n",
    "\n"
   ]
  },
  {
   "cell_type": "code",
   "execution_count": 12,
   "metadata": {},
   "outputs": [
    {
     "name": "stdout",
     "output_type": "stream",
     "text": [
      "B\n",
      "Hello, my name is Alice and I am 30 years old.\n",
      "{'John': 80, 'Jack': 75, 'Jill': 92}\n",
      "Jack receives a C from machine learning.\n"
     ]
    }
   ],
   "source": [
    "def convert2letter(totalScore):\n",
    "    if totalScore >= 90:\n",
    "        return \"A\"\n",
    "    elif totalScore >= 80:\n",
    "        return \"B\"\n",
    "    else:\n",
    "        return \"C\"\n",
    "\n",
    "\n",
    "johnScore = 80\n",
    "print(convert2letter(johnScore))\n",
    "\n",
    "name=\"Alice\"\n",
    "age=30\n",
    "greeting=f'Hello, my name is {name} and I am {age} years old.'\n",
    "print(greeting)\n",
    "\n",
    "scoreBook={}\n",
    "scoreBook[\"John\"]=80\n",
    "scoreBook[\"Jack\"]=75\n",
    "scoreBook[\"Jill\"]=92\n",
    "\n",
    "print(scoreBook)\n",
    "# F-string with dictionary\n",
    "print(f\"Jack receives a {convert2letter(scoreBook['Jack'])} from machine learning.\")\n"
   ]
  },
  {
   "cell_type": "code",
   "execution_count": 13,
   "metadata": {},
   "outputs": [
    {
     "name": "stdout",
     "output_type": "stream",
     "text": [
      "[[0. 0. 0. 0.]\n",
      " [0. 0. 0. 0.]\n",
      " [0. 0. 0. 0.]]\n",
      "2\n",
      "(3, 4)\n",
      "12\n"
     ]
    },
    {
     "data": {
      "text/plain": [
       "array([[-0.21055919,  0.12739024, -0.13808682,  0.21394934],\n",
       "       [ 0.61198126, -2.16688058, -0.42944024,  0.72774181],\n",
       "       [-0.01094026, -0.7196291 ,  0.58753198, -1.03909256]])"
      ]
     },
     "execution_count": 13,
     "metadata": {},
     "output_type": "execute_result"
    }
   ],
   "source": [
    "import numpy as np\n",
    "\n",
    "a = np.zeros((3,4))\n",
    "print(a)\n",
    "print(a.ndim)\n",
    "print(a.shape)\n",
    "print(a.size)\n",
    "\n",
    "\n",
    "np.linspace(1, 5, 9)\n",
    "\n",
    "np.random.rand(3,4)\n",
    "np.random.randn(3,4)\n"
   ]
  },
  {
   "cell_type": "markdown",
   "metadata": {},
   "source": [
    "### mean(): Calculates the average of array elements.\n",
    "### max(): Finds the maximum value.\n",
    "### min(): Finds the minimum value.\n",
    "### sum(): Adds up all the elements.\n",
    "### std(): Computes the standard deviation.\n",
    "### var(): Computes the variance."
   ]
  },
  {
   "cell_type": "code",
   "execution_count": 14,
   "metadata": {},
   "outputs": [
    {
     "name": "stdout",
     "output_type": "stream",
     "text": [
      "[[ 1  2  3  4]\n",
      " [10 20 30 40]\n",
      " [60 70 80 90]]\n",
      "Overall Mean: 34.166666666666664\n",
      "Maximum: 90\n",
      "Minimum: 1\n",
      "Sum: 410\n",
      "Standard Deviation: 31.651312066888405\n",
      "Variance: 1001.8055555555557\n"
     ]
    }
   ],
   "source": [
    "import numpy as np\n",
    "\n",
    "homework = np.array([[1,2,3,4], [10, 20, 30, 40], [60, 70, 80, 90]])\n",
    "print(homework)  \n",
    "\n",
    "# Overall mean of the array\n",
    "overall_mean = np.mean(homework)\n",
    "print(\"Overall Mean:\", overall_mean)\n",
    "\n",
    "# Maximum value\n",
    "max_value = np.max(homework)\n",
    "print(\"Maximum:\", max_value)\n",
    "\n",
    "# Minimum value\n",
    "min_value = np.min(homework)\n",
    "print(\"Minimum:\", min_value)\n",
    "\n",
    "# Sum of all elements\n",
    "sum_value = np.sum(homework)\n",
    "print(\"Sum:\", sum_value)\n",
    "\n",
    "# Standard deviation\n",
    "std_value = np.std(homework)\n",
    "print(\"Standard Deviation:\", std_value)\n",
    "\n",
    "# Variance\n",
    "var_value = np.var(homework)\n",
    "print(\"Variance:\", var_value)"
   ]
  },
  {
   "cell_type": "code",
   "execution_count": 15,
   "metadata": {},
   "outputs": [
    {
     "name": "stdout",
     "output_type": "stream",
     "text": [
      "4\n",
      "[2 3]\n",
      "[2 4]\n",
      "[ 3  4 10 20]\n",
      "[1 2]\n"
     ]
    }
   ],
   "source": [
    "import numpy as np\n",
    "\n",
    "a = np.array([1, 2, 3, 4, 10, 20, 30])\n",
    "print(a[3])\n",
    "print(a[1:3])\n",
    "print(a[1:5:2])\n",
    "print(a[2:-1])\n",
    "print(a[:2])\n"
   ]
  },
  {
   "cell_type": "code",
   "execution_count": null,
   "metadata": {},
   "outputs": [
    {
     "data": {
      "text/plain": [
       "array([[ 1,  4],\n",
       "       [10, 40],\n",
       "       [60, 90]])"
      ]
     },
     "execution_count": 8,
     "metadata": {},
     "output_type": "execute_result"
    }
   ],
   "source": [
    "import numpy as np\n",
    "\n",
    "homework = np.array([[1,2,3,4], [10, 20, 30, 40], [60, 70, 80, 90]])\n",
    "\n",
    "homework[(0,2), 1:3]"
   ]
  },
  {
   "cell_type": "markdown",
   "metadata": {},
   "source": [
    "### Explanation: This indexing method selects rows at index 0 and 2 and columns from index 1 to 3 (excluding 3).\n"
   ]
  }
 ],
 "metadata": {
  "kernelspec": {
   "display_name": ".venv",
   "language": "python",
   "name": "python3"
  },
  "language_info": {
   "codemirror_mode": {
    "name": "ipython",
    "version": 3
   },
   "file_extension": ".py",
   "mimetype": "text/x-python",
   "name": "python",
   "nbconvert_exporter": "python",
   "pygments_lexer": "ipython3",
   "version": "3.9.6"
  }
 },
 "nbformat": 4,
 "nbformat_minor": 2
}
